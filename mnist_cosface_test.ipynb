{
 "cells": [
  {
   "cell_type": "markdown",
   "metadata": {
    "colab_type": "text",
    "id": "ohFs-uX44uZS"
   },
   "source": [
    "## Install Pytorch if needed"
   ]
  },
  {
   "cell_type": "code",
   "execution_count": 0,
   "metadata": {
    "colab": {},
    "colab_type": "code",
    "id": "doPtfTAl4uZU"
   },
   "outputs": [],
   "source": [
    "# http://pytorch.org/\n",
    "\n",
    "\n",
    "# from os.path import exists\n",
    "# from wheel.pep425tags import get_abbr_impl, get_impl_ver, get_abi_tag\n",
    "# platform = '{}{}-{}'.format(get_abbr_impl(), get_impl_ver(), get_abi_tag())\n",
    "# cuda_output = !ldconfig -p|grep cudart.so|sed -e 's/.*\\.\\([0-9]*\\)\\.\\([0-9]*\\)$/cu\\1\\2/'\n",
    "# accelerator = cuda_output[0] if exists('/dev/nvidia0') else 'cpu'\n",
    "\n",
    "# !pip install -q http://download.pytorch.org/whl/{accelerator}/torch-0.4.1-{platform}-linux_x86_64.whl torchvision\n",
    "# import torch"
   ]
  },
  {
   "cell_type": "markdown",
   "metadata": {
    "colab_type": "text",
    "id": "Cq7PhAqo4uZX"
   },
   "source": [
    "## Import modules"
   ]
  },
  {
   "cell_type": "code",
   "execution_count": 2,
   "metadata": {
    "colab": {
     "base_uri": "https://localhost:8080/",
     "height": 5120
    },
    "colab_type": "code",
    "id": "FwnV7l3rUptF",
    "outputId": "6fa75b24-9327-42b0-a3a5-e7ecdd3c6c55"
   },
   "outputs": [
    {
     "name": "stdout",
     "output_type": "stream",
     "text": [
      "Downloading http://yann.lecun.com/exdb/mnist/train-images-idx3-ubyte.gz\n",
      "Downloading http://yann.lecun.com/exdb/mnist/train-labels-idx1-ubyte.gz\n",
      "Downloading http://yann.lecun.com/exdb/mnist/t10k-images-idx3-ubyte.gz\n",
      "Downloading http://yann.lecun.com/exdb/mnist/t10k-labels-idx1-ubyte.gz\n",
      "Processing...\n",
      "Done!\n"
     ]
    }
   ],
   "source": [
    "\n",
    "\n",
    "import torch\n",
    "import torch.nn as nn\n",
    "import torch.optim as optim\n",
    "from torchvision import datasets, transforms\n",
    "from torch.autograd import Variable\n",
    "from torchvision import datasets\n",
    "from torch.utils.data import DataLoader\n",
    "import torch.optim.lr_scheduler as lr_scheduler\n",
    "\n",
    "from torch.autograd.function import Function\n",
    "import torch.nn.functional as F\n",
    "\n",
    "import matplotlib\n",
    "matplotlib.use('Agg')\n",
    "import matplotlib.pyplot as plt\n",
    "\n",
    "import numpy as np\n",
    "%matplotlib inline\n",
    "\n",
    "batch_size = 100\n",
    "\n",
    "\n",
    "\n",
    "class Net(nn.Module):\n",
    "    def __init__(self):\n",
    "        super(Net, self).__init__()\n",
    "        self.conv1_1 = nn.Conv2d(1, 32, kernel_size=5, padding=2)\n",
    "        self.prelu1_1 = nn.PReLU()\n",
    "        self.conv1_2 = nn.Conv2d(32, 32, kernel_size=5, padding=2)\n",
    "        self.prelu1_2 = nn.PReLU()\n",
    "        self.conv2_1 = nn.Conv2d(32, 64, kernel_size=5, padding=2)\n",
    "        self.prelu2_1 = nn.PReLU()\n",
    "        self.conv2_2 = nn.Conv2d(64, 64, kernel_size=5, padding=2)\n",
    "        self.prelu2_2 = nn.PReLU()\n",
    "        self.conv3_1 = nn.Conv2d(64, 128, kernel_size=5, padding=2)\n",
    "        self.prelu3_1 = nn.PReLU()\n",
    "        self.conv3_2 = nn.Conv2d(128, 128, kernel_size=5, padding=2)\n",
    "        self.prelu3_2 = nn.PReLU()\n",
    "        self.preluip1 = nn.PReLU()\n",
    "        self.ip1 = nn.Linear(128 * 3 * 3, 2)\n",
    "        self.ip2 = nn.Linear(2, 10)\n",
    "\n",
    "    def forward(self, x):\n",
    "        x = self.prelu1_1(self.conv1_1(x))\n",
    "        x = self.prelu1_2(self.conv1_2(x))\n",
    "        x = F.max_pool2d(x, 2)\n",
    "        x = self.prelu2_1(self.conv2_1(x))\n",
    "        x = self.prelu2_2(self.conv2_2(x))\n",
    "        x = F.max_pool2d(x, 2)\n",
    "        x = self.prelu3_1(self.conv3_1(x))\n",
    "        x = self.prelu3_2(self.conv3_2(x))\n",
    "        x = F.max_pool2d(x, 2)\n",
    "        x = x.view(-1, 128 * 3 * 3)\n",
    "        ip1 = self.preluip1(self.ip1(x))\n",
    "        ip2 = self.ip2(ip1)\n",
    "        return ip1, ip2\n",
    "\n",
    "\n",
    "class LMCL_loss(nn.Module):\n",
    "    \"\"\"\n",
    "        Refer to paper:\n",
    "        Hao Wang, Yitong Wang, Zheng Zhou, Xing Ji, Dihong Gong, Jingchao Zhou,Zhifeng Li, and Wei Liu\n",
    "        CosFace: Large Margin Cosine Loss for Deep Face Recognition. CVPR2018\n",
    "        re-implement by yirong mao\n",
    "        2018 07/02\n",
    "        \"\"\"\n",
    "\n",
    "    def __init__(self, num_classes, feat_dim, s=7.00, m=0.2):\n",
    "        super(LMCL_loss, self).__init__()\n",
    "        self.feat_dim = feat_dim\n",
    "        self.num_classes = num_classes\n",
    "        self.s = s\n",
    "        self.m = m\n",
    "        self.centers = nn.Parameter(torch.randn(num_classes, feat_dim))\n",
    "\n",
    "    def forward(self, feat, label):\n",
    "        batch_size = feat.shape[0]\n",
    "        norms = torch.norm(feat, p=2, dim=-1, keepdim=True)\n",
    "        nfeat = torch.div(feat, norms)\n",
    "\n",
    "        norms_c = torch.norm(self.centers, p=2, dim=-1, keepdim=True)\n",
    "        ncenters = torch.div(self.centers, norms_c)\n",
    "        logits = torch.matmul(nfeat, torch.transpose(ncenters, 0, 1))\n",
    "\n",
    "        y_onehot = torch.FloatTensor(batch_size, self.num_classes)\n",
    "        y_onehot.zero_()\n",
    "        y_onehot = Variable(y_onehot).cuda()\n",
    "        y_onehot.scatter_(1, torch.unsqueeze(label, dim=-1), self.m)\n",
    "        margin_logits = self.s * (logits - y_onehot)\n",
    "\n",
    "        return logits, margin_logits\n",
    "\n",
    "      \n",
    "      \n",
    "# def visualize(feat, labels, epoch):\n",
    "#     plt.ion()\n",
    "#     c = ['#ff0000', '#ffff00', '#00ff00', '#00ffff', '#0000ff',\n",
    "#          '#ff00ff', '#990000', '#999900', '#009900', '#009999']\n",
    "#     plt.clf()\n",
    "#     for i in range(10):\n",
    "#         plt.plot(feat[labels == i, 0], feat[labels == i, 1], '.', c=c[i])\n",
    "#     plt.legend(['0', '1', '2', '3', '4', '5', '6', '7', '8', '9'], loc='upper right')\n",
    "#     #   plt.xlim(xmin=-5,xmax=5)\n",
    "#     #   plt.ylim(ymin=-5,ymax=5)\n",
    "#     plt.text(-4.8, 4.6, \"epoch=%d\" % epoch)\n",
    "#     plt.savefig('./images/LMCL_loss_u_epoch=%d.jpg' % epoch)\n",
    "#     # plt.draw()\n",
    "#     # plt.pause(0.001)\n",
    "#     plt.close()\n",
    "\n",
    "def test(test_loder, criterion, model, use_cuda):\n",
    "    correct = 0\n",
    "    total = 0\n",
    "    for i, (data, target) in enumerate(test_loder):\n",
    "        if use_cuda:\n",
    "            data = data.cuda()\n",
    "            target = target.cuda()\n",
    "        data, target = Variable(data), Variable(target)\n",
    "\n",
    "        feats, _ = model(data)\n",
    "        logits, mlogits = criterion[1](feats, target)\n",
    "        _, predicted = torch.max(logits.data, 1)\n",
    "        total += target.size(0)\n",
    "        correct += (predicted == target.data).sum()\n",
    "\n",
    "    print('Test Accuracy of the model on the 10000 test images: %f %%' % (100 * correct / total))\n",
    "\n",
    "\n",
    "def train(train_loader, model, criterion, optimizer, epoch, loss_weight, use_cuda):\n",
    "    ip1_loader = []\n",
    "    idx_loader = []\n",
    "    for i, (data, target) in enumerate(train_loader):\n",
    "        if use_cuda:\n",
    "            data = data.cuda()\n",
    "            target = target.cuda()\n",
    "        data, target = Variable(data), Variable(target)\n",
    "\n",
    "        feats, _ = model(data)\n",
    "        logits, mlogits = criterion[1](feats, target)\n",
    "        # cross_entropy = criterion[0](logits, target)\n",
    "        loss = criterion[0](mlogits, target)\n",
    "\n",
    "        _, predicted = torch.max(logits.data, 1)\n",
    "        accuracy = (target.data == predicted).float().mean()\n",
    "\n",
    "        optimizer[0].zero_grad()\n",
    "        optimizer[1].zero_grad()\n",
    "\n",
    "        loss.backward()\n",
    "\n",
    "        optimizer[0].step()\n",
    "        optimizer[1].step()\n",
    "\n",
    "        ip1_loader.append(feats)\n",
    "        idx_loader.append((target))\n",
    "        if (i + 1) % 50 == 0:\n",
    "            print('Epoch [%d], Iter [%d/%d] Loss: %.4f Acc %.4f'\n",
    "                  % (epoch, i + 1, len(train_loader), loss.data[0], accuracy))\n",
    "\n",
    "    feat = torch.cat(ip1_loader, 0)\n",
    "    labels = torch.cat(idx_loader, 0)\n",
    "#     visualize(feat.data.cpu().numpy(), labels.data.cpu().numpy(), epoch)\n",
    "\n",
    "\n",
    "if torch.cuda.is_available():\n",
    "    use_cuda = True\n",
    "else:\n",
    "    use_cuda = False\n",
    "# Dataset\n",
    "trainset = datasets.MNIST('./data/', download=True, train=True, transform=transforms.Compose([\n",
    "    transforms.ToTensor(),\n",
    "    transforms.Normalize((0.1307,), (0.3081,))]))\n",
    "train_loader = DataLoader(trainset, batch_size=100, shuffle=True, num_workers=4)\n",
    "\n",
    "testset = datasets.MNIST('./data/', download=True, train=False, transform=transforms.Compose([\n",
    "    transforms.ToTensor(),\n",
    "    transforms.Normalize((0.1307,), (0.3081,))]))\n",
    "test_loader = DataLoader(testset, batch_size=100, shuffle=True, num_workers=4)\n",
    "\n",
    "# Model\n",
    "model = Net()\n",
    "\n",
    "# NLLLoss\n",
    "nllloss = nn.CrossEntropyLoss()\n",
    "# CenterLoss\n",
    "loss_weight = 0.1\n",
    "lmcl_loss = LMCL_loss(num_classes=10, feat_dim=2)\n",
    "if use_cuda:\n",
    "    nllloss = nllloss.cuda()\n",
    "    coco_loss = lmcl_loss.cuda()\n",
    "    model = model.cuda()\n",
    "criterion = [nllloss, lmcl_loss]\n",
    "# optimzer4nn\n",
    "optimizer4nn = optim.SGD(model.parameters(), lr=0.001, momentum=0.9, weight_decay=0.0005)\n",
    "sheduler_4nn = lr_scheduler.StepLR(optimizer4nn, 20, gamma=0.5)\n",
    "\n",
    "# optimzer4center\n",
    "optimzer4center = optim.SGD(lmcl_loss.parameters(), lr=0.01)\n",
    "sheduler_4center = lr_scheduler.StepLR(optimizer4nn, 20, gamma=0.5)\n",
    "for epoch in range(20):\n",
    "    sheduler_4nn.step()\n",
    "    sheduler_4center.step()\n",
    "    # print optimizer4nn.param_groups[0]['lr']\n",
    "    train(train_loader, model, criterion, [optimizer4nn, optimzer4center], epoch + 1, loss_weight, use_cuda)\n",
    "    test(test_loader, criterion, model, use_cuda)\n",
    "torch.save(model.state_dict(),\"mnist_cnn-cosface.pt\")        \n",
    "\n",
    "\n"
   ]
  },
  {
   "cell_type": "markdown",
   "metadata": {
    "colab_type": "text",
    "id": "Rzz0r5To4uZs"
   },
   "source": [
    "## Train process"
   ]
  },
  {
   "cell_type": "code",
   "execution_count": 0,
   "metadata": {
    "colab": {},
    "colab_type": "code",
    "id": "_GFUR8jN4uZu"
   },
   "outputs": [],
   "source": [
    "# model = Net().to(device)\n",
    "# optimizer = optim.SGD(model.parameters(), lr=0.01, momentum=0.5)\n",
    "\n",
    "# for epoch in range(1, EPOCHS + 1):\n",
    "#     train(model, device, train_loader, optimizer, epoch)\n",
    "#     test(model, device, test_loader)\n",
    "\n",
    "# torch.save(model.state_dict(),\"mnist_cnn-cosface.pt\")\n"
   ]
  },
  {
   "cell_type": "code",
   "execution_count": 0,
   "metadata": {
    "colab": {},
    "colab_type": "code",
    "id": "S-f_NZgj4uZy"
   },
   "outputs": [],
   "source": []
  },
  {
   "cell_type": "code",
   "execution_count": 0,
   "metadata": {
    "colab": {},
    "colab_type": "code",
    "id": "LTBjTbqF59Cl"
   },
   "outputs": [],
   "source": []
  },
  {
   "cell_type": "code",
   "execution_count": 0,
   "metadata": {
    "colab": {},
    "colab_type": "code",
    "id": "AXpn-upI7SdT"
   },
   "outputs": [],
   "source": [
    "# # Download from COLAB\n",
    "# from google.colab import files\n",
    "# files.download('mnist_cnn-cosface.pt') \n"
   ]
  },
  {
   "cell_type": "code",
   "execution_count": 0,
   "metadata": {
    "colab": {},
    "colab_type": "code",
    "id": "kiTGuHn9E2QC"
   },
   "outputs": [],
   "source": []
  },
  {
   "cell_type": "markdown",
   "metadata": {
    "colab_type": "text",
    "id": "zw33B1uFE2QG"
   },
   "source": [
    "## Load Model"
   ]
  },
  {
   "cell_type": "code",
   "execution_count": null,
   "metadata": {},
   "outputs": [],
   "source": []
  },
  {
   "cell_type": "code",
   "execution_count": 3,
   "metadata": {
    "colab": {
     "base_uri": "https://localhost:8080/",
     "height": 306
    },
    "colab_type": "code",
    "id": "Y29d85vOE2QG",
    "outputId": "76df9fd2-b947-49fe-dd9d-cabcc154629a"
   },
   "outputs": [
    {
     "data": {
      "text/plain": [
       "Net(\n",
       "  (conv1_1): Conv2d(1, 32, kernel_size=(5, 5), stride=(1, 1), padding=(2, 2))\n",
       "  (prelu1_1): PReLU(num_parameters=1)\n",
       "  (conv1_2): Conv2d(32, 32, kernel_size=(5, 5), stride=(1, 1), padding=(2, 2))\n",
       "  (prelu1_2): PReLU(num_parameters=1)\n",
       "  (conv2_1): Conv2d(32, 64, kernel_size=(5, 5), stride=(1, 1), padding=(2, 2))\n",
       "  (prelu2_1): PReLU(num_parameters=1)\n",
       "  (conv2_2): Conv2d(64, 64, kernel_size=(5, 5), stride=(1, 1), padding=(2, 2))\n",
       "  (prelu2_2): PReLU(num_parameters=1)\n",
       "  (conv3_1): Conv2d(64, 128, kernel_size=(5, 5), stride=(1, 1), padding=(2, 2))\n",
       "  (prelu3_1): PReLU(num_parameters=1)\n",
       "  (conv3_2): Conv2d(128, 128, kernel_size=(5, 5), stride=(1, 1), padding=(2, 2))\n",
       "  (prelu3_2): PReLU(num_parameters=1)\n",
       "  (preluip1): PReLU(num_parameters=1)\n",
       "  (ip1): Linear(in_features=1152, out_features=2, bias=True)\n",
       "  (ip2): Linear(in_features=2, out_features=10, bias=True)\n",
       ")"
      ]
     },
     "execution_count": 3,
     "metadata": {},
     "output_type": "execute_result"
    }
   ],
   "source": [
    "device = torch.device(\"cuda\" if use_cuda else \"cpu\")\n",
    "model = Net()\n",
    "model.eval()\n",
    "model.load_state_dict(torch.load(\"mnist_cnn-cosface.pt\", map_location='cpu'))\n",
    "model.to(device)"
   ]
  },
  {
   "cell_type": "code",
   "execution_count": 4,
   "metadata": {
    "colab": {},
    "colab_type": "code",
    "id": "KopZtM73E2QH"
   },
   "outputs": [],
   "source": [
    "import matplotlib.pyplot as plt\n",
    "import numpy as np\n",
    "%matplotlib inline"
   ]
  },
  {
   "cell_type": "code",
   "execution_count": null,
   "metadata": {
    "colab": {},
    "colab_type": "code",
    "id": "gGSk1UKcs9v7"
   },
   "outputs": [],
   "source": []
  },
  {
   "cell_type": "code",
   "execution_count": 44,
   "metadata": {
    "colab": {
     "base_uri": "https://localhost:8080/",
     "height": 1226
    },
    "colab_type": "code",
    "id": "Hn-YeqKkE2QJ",
    "outputId": "e3e44af8-be98-4c4e-d598-c829ab36958a"
   },
   "outputs": [
    {
     "name": "stdout",
     "output_type": "stream",
     "text": [
      "PREDICTION : 4\n"
     ]
    },
    {
     "data": {
      "image/png": "[encoded data removed]",
      "text/plain": [
       "<Figure size 432x288 with 1 Axes>"
      ]
     },
     "metadata": {},
     "output_type": "display_data"
    }
   ],
   "source": [
    "from pdb import set_trace as bp\n",
    "\n",
    "class LMCL_loss2(nn.Module):\n",
    "    \"\"\"\n",
    "        Refer to paper:\n",
    "        Hao Wang, Yitong Wang, Zheng Zhou, Xing Ji, Dihong Gong, Jingchao Zhou,Zhifeng Li, and Wei Liu\n",
    "        CosFace: Large Margin Cosine Loss for Deep Face Recognition. CVPR2018\n",
    "        re-implement by yirong mao\n",
    "        2018 07/02\n",
    "        \"\"\"\n",
    "\n",
    "    def __init__(self, num_classes, feat_dim, s=7.00, m=0.2):\n",
    "        super(LMCL_loss2, self).__init__()\n",
    "        self.feat_dim = feat_dim\n",
    "        self.num_classes = num_classes\n",
    "        self.s = s\n",
    "        self.m = m\n",
    "        self.centers = nn.Parameter(torch.randn(num_classes, feat_dim))\n",
    "\n",
    "    def forward(self, feat, label):\n",
    "        batch_size = feat.shape[0]\n",
    "        norms = torch.norm(feat, p=2, dim=-1, keepdim=True)\n",
    "        nfeat = torch.div(feat, norms)\n",
    "\n",
    "        norms_c = torch.norm(self.centers, p=2, dim=-1, keepdim=True)\n",
    "        ncenters = torch.div(self.centers, norms_c)\n",
    "        logits = torch.matmul(nfeat.cpu(), torch.transpose(ncenters, 0, 1).cpu())\n",
    "\n",
    "        y_onehot = torch.FloatTensor(batch_size, self.num_classes)\n",
    "        y_onehot.zero_()\n",
    "        y_onehot = Variable(y_onehot).cpu()\n",
    "        y_onehot.scatter_(1, torch.unsqueeze(label, dim=-1).reshape(1,1), self.m)\n",
    "        margin_logits = self.s * (logits - y_onehot)\n",
    "\n",
    "        return logits, margin_logits\n",
    "\n",
    "\n",
    "\n",
    "ind = 1423\n",
    "\n",
    "image = test_loader.dataset[ind][0].numpy().reshape(28,28)\n",
    "lbl = test_loader.dataset[ind][1].numpy()\n",
    "plt.title('this is  --->   ' + str(lbl))\n",
    "plt.imshow(image, cmap='gray')\n",
    "\n",
    "\n",
    "image_tensor, label_tensor = test_loader.dataset[ind]\n",
    "image_tensor = image_tensor.reshape(1,1,28,28)\n",
    "image_tensor, label_tensor = image_tensor.to(device), label_tensor.to(device)\n",
    "\n",
    "# features2d, prediction = model(image_tensor)\n",
    "lmcl_loss = LMCL_loss2(num_classes=10, feat_dim=2)\n",
    "features2d, pr = model(image_tensor)\n",
    "logits, mlogits = lmcl_loss(features2d, label_tensor)\n",
    "_, prediction = torch.max(logits.data, 1)\n",
    "prediction = prediction.detach().numpy()[0]\n",
    "\n",
    "print (\"PREDICTION : \" + str(prediction) )"
   ]
  },
  {
   "cell_type": "markdown",
   "metadata": {
    "colab_type": "text",
    "id": "F-Dj57YNE2QL"
   },
   "source": [
    "-----------"
   ]
  },
  {
   "cell_type": "code",
   "execution_count": 27,
   "metadata": {
    "colab": {},
    "colab_type": "code",
    "id": "gomfAScIE2QL"
   },
   "outputs": [],
   "source": [
    "# Visualize train_data"
   ]
  },
  {
   "cell_type": "code",
   "execution_count": 45,
   "metadata": {
    "colab": {
     "base_uri": "https://localhost:8080/",
     "height": 51
    },
    "colab_type": "code",
    "id": "tfF2_d4pMvB9",
    "outputId": "01624b4a-b7b2-47d0-9ccd-2fcf2086408f"
   },
   "outputs": [
    {
     "name": "stdout",
     "output_type": "stream",
     "text": [
      "2d features shape(10000, 2)\n",
      "labels shape(10000,)\n"
     ]
    }
   ],
   "source": [
    "# f3d = []\n",
    "f2d = []\n",
    "lbls = []\n",
    "for i in range(10000):\n",
    "    image_tensor, label_tensor = test_loader.dataset[i]\n",
    "    image_tensor = image_tensor.reshape(1,1,28,28)\n",
    "    image_tensor, label_tensor = image_tensor.to(device), label_tensor.to(device)\n",
    "\n",
    "#     features2d, prediction = model(image_tensor)\n",
    "    features2d, pr  = model(image_tensor)\n",
    "    logits, mlogits = lmcl_loss(features2d, label_tensor)\n",
    "    _, prediction = torch.max(logits.data, 1)\n",
    "\n",
    "#     f3d.append(features3d[0].cpu().detach().numpy())\n",
    "    f2d.append(features2d[0].cpu().detach().numpy())\n",
    "    \n",
    "    prediction = prediction.detach().numpy()[0]\n",
    "    lbls.append(prediction)\n",
    "\n",
    "#     print(\"features3d:  \" + str(features3d[0].detach().numpy()))\n",
    "#     print(\"features2d:  \" + str(features2d[0].detach().numpy()))\n",
    "\n",
    "# feat3d = np.array(f3d)\n",
    "# print(\"3d features shape\" + str(feat3d.shape))\n",
    "\n",
    "feat2d = np.array(f2d)\n",
    "print(\"2d features shape\" + str(feat2d.shape))\n",
    "\n",
    "lbls = np.array(lbls)\n",
    "print(\"labels shape\" + str(lbls.shape))\n"
   ]
  },
  {
   "cell_type": "markdown",
   "metadata": {
    "colab_type": "text",
    "id": "bOFTB3dYMvB-"
   },
   "source": [
    "# Visualize 2d"
   ]
  },
  {
   "cell_type": "code",
   "execution_count": 46,
   "metadata": {
    "colab": {
     "base_uri": "https://localhost:8080/",
     "height": 537
    },
    "colab_type": "code",
    "id": "pIDeHmmoMvB_",
    "outputId": "fe64ac4f-bb64-4fee-8e74-fd8b2102400e"
   },
   "outputs": [
    {
     "data": {
      "image/png": "[encoded data removed]",
      "text/plain": [
       "<Figure size 1152x648 with 1 Axes>"
      ]
     },
     "metadata": {},
     "output_type": "display_data"
    }
   ],
   "source": [
    "import matplotlib.pyplot as plt\n",
    "%matplotlib inline\n",
    "\n",
    "f = plt.figure(figsize=(16,9))\n",
    "c = ['#ff0000', '#ffff00', '#00ff00', '#00ffff', '#0000ff', \n",
    "     '#ff00ff', '#990000', '#999900', '#009900', '#009999']\n",
    "for i in range(10):\n",
    "    plt.plot(feat2d[lbls==i,0].flatten(), feat2d[lbls==i,1].flatten(), '.', c=c[i])\n",
    "plt.legend(['0', '1', '2', '3', '4', '5', '6', '7', '8', '9'])\n",
    "\n",
    "plt.grid()\n",
    "plt.show()"
   ]
  },
  {
   "cell_type": "markdown",
   "metadata": {
    "colab_type": "text",
    "id": "-OlQuzO6MvCB"
   },
   "source": [
    "# Visualize 3d"
   ]
  },
  {
   "cell_type": "code",
   "execution_count": 0,
   "metadata": {
    "colab": {},
    "colab_type": "code",
    "id": "edDcF8DbMvCB"
   },
   "outputs": [],
   "source": [
    "# from mpl_toolkits import mplot3d\n",
    "# import matplotlib.pyplot as plt\n",
    "# %matplotlib inline\n",
    "\n",
    "# fig = plt.figure(figsize=(16,9))\n",
    "# ax = plt.axes(projection='3d')\n",
    "\n",
    "# for i in range(10):\n",
    "#     # Data for three-dimensional scattered points\n",
    "#     xdata = feat3d[lbls==i,2].flatten()\n",
    "#     ydata = feat3d[lbls==i,0].flatten()\n",
    "#     zdata = feat3d[lbls==i,1].flatten()\n",
    "#     ax.scatter3D(xdata, ydata, zdata);\n",
    "# ax.legend(['0', '1', '2', '3', '4', '5', '6', '7', '8', '9'],loc='center left', bbox_to_anchor=(1, 0.5))\n",
    "\n",
    "# plt.show()"
   ]
  },
  {
   "cell_type": "code",
   "execution_count": 0,
   "metadata": {
    "colab": {},
    "colab_type": "code",
    "id": "cfFuro0eMvCD"
   },
   "outputs": [],
   "source": []
  }
 ],
 "metadata": {
  "accelerator": "GPU",
  "colab": {
   "collapsed_sections": [],
   "name": "mnist_test.ipynb",
   "provenance": [],
   "version": "0.3.2"
  },
  "kernelspec": {
   "display_name": "Python 3",
   "language": "python",
   "name": "python3"
  },
  "language_info": {
   "codemirror_mode": {
    "name": "ipython",
    "version": 3
   },
   "file_extension": ".py",
   "mimetype": "text/x-python",
   "name": "python",
   "nbconvert_exporter": "python",
   "pygments_lexer": "ipython3",
   "version": "3.6.5"
  }
 },
 "nbformat": 4,
 "nbformat_minor": 1
}
